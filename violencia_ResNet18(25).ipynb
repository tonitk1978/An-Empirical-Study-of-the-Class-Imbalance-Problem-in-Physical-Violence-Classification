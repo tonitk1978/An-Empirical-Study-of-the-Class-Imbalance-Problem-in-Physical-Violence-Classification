{
 "cells": [
  {
   "cell_type": "markdown",
   "metadata": {},
   "source": [
    "## Importando Librerias"
   ]
  },
  {
   "cell_type": "code",
   "execution_count": 1,
   "metadata": {},
   "outputs": [],
   "source": [
    "import os\n",
    "import numpy as np\n",
    "import torch\n",
    "import torch.nn as nn\n",
    "import torch.optim as optim\n",
    "from torch.utils.data import DataLoader, TensorDataset\n",
    "from torchvision import models\n",
    "from sklearn.model_selection import train_test_split\n",
    "from sklearn.metrics import confusion_matrix, precision_score, recall_score, f1_score\n",
    "import seaborn as sns\n",
    "import matplotlib.pyplot as plt\n",
    "from PIL import Image\n",
    "\n",
    "\n",
    "\n",
    "from modules import entrenamiento\n"
   ]
  },
  {
   "cell_type": "markdown",
   "metadata": {},
   "source": [
    "## paraametros"
   ]
  },
  {
   "cell_type": "code",
   "execution_count": 2,
   "metadata": {},
   "outputs": [],
   "source": [
    "epocas=2\n",
    "#192\n",
    "loteTrain=32\n",
    "loteVal=32"
   ]
  },
  {
   "cell_type": "code",
   "execution_count": 3,
   "metadata": {},
   "outputs": [],
   "source": [
    "obj= entrenamiento.TrainingModules()"
   ]
  },
  {
   "cell_type": "code",
   "execution_count": 4,
   "metadata": {},
   "outputs": [],
   "source": [
    "obj.train_violent_dir = \"../Database(25)/train/violencia/\"\n",
    "obj.train_non_violent_dir = \"../Database(25)/train/no_violencia/\"\n",
    "\n",
    "obj.test_violent_dir = \"../Database(25)/test/violencia/\"\n",
    "obj.test_non_violent_dir = \"../Database(25)/test/no_violencia/\""
   ]
  },
  {
   "cell_type": "markdown",
   "metadata": {},
   "source": [
    "## Definir el dispositivo de ejecucion (GPU si está disponible)"
   ]
  },
  {
   "cell_type": "code",
   "execution_count": 5,
   "metadata": {},
   "outputs": [
    {
     "name": "stdout",
     "output_type": "stream",
     "text": [
      "Se esta usando :  cuda:0\n"
     ]
    }
   ],
   "source": [
    "device = torch.device(\"cuda:0\" if torch.cuda.is_available() else \"cpu\")\n",
    "print(\"Se esta usando : \",device)"
   ]
  },
  {
   "cell_type": "markdown",
   "metadata": {},
   "source": [
    "## Directorios de las imágenes"
   ]
  },
  {
   "cell_type": "code",
   "execution_count": 6,
   "metadata": {},
   "outputs": [],
   "source": [
    "\n",
    "import torchvision.transforms as transforms\n",
    "from torch.utils.data import Dataset\n",
    "from PIL import Image\n",
    "\n",
    "# Definir las transformaciones de aumento de datos\n",
    "data_transforms = transforms.Compose([\n",
    "    transforms.RandomHorizontalFlip(),\n",
    "    transforms.RandomRotation(10),\n",
    "    transforms.ColorJitter(brightness=0.2, contrast=0.2, saturation=0.2, hue=0.2),\n",
    "    transforms.RandomResizedCrop(224, scale=(0.8, 1.0)),\n",
    "    transforms.ToTensor()\n",
    "])\n",
    "\n",
    "# Clase personalizada para aplicar las transformaciones a las imágenes\n",
    "class CustomImageDataset(Dataset):\n",
    "    def __init__(self, image_paths, labels, transform=None):\n",
    "        self.image_paths = image_paths\n",
    "        self.labels = labels\n",
    "        self.transform = transform\n",
    "    \n",
    "    def __len__(self):\n",
    "        return len(self.image_paths)\n",
    "    \n",
    "    def __getitem__(self, idx):\n",
    "        img_path = self.image_paths[idx]\n",
    "        image = Image.open(img_path).convert(\"RGB\")\n",
    "        label = self.labels[idx]\n",
    "        \n",
    "        if self.transform:\n",
    "            image = self.transform(image)\n",
    "        \n",
    "        return image, label\n",
    "\n",
    "# Crear el dataset utilizando las transformaciones de data augmentation\n",
    "train_image_paths = [os.path.join(obj.train_violent_dir, img) for img in os.listdir(obj.train_violent_dir)] +                     [os.path.join(obj.train_non_violent_dir, img) for img in os.listdir(obj.train_non_violent_dir)]\n",
    "\n",
    "train_labels = [1] * len(os.listdir(obj.train_violent_dir)) + [0] * len(os.listdir(obj.train_non_violent_dir))\n",
    "\n",
    "train_dataset = CustomImageDataset(train_image_paths, train_labels, transform=data_transforms)\n",
    "\n",
    "# Crear el DataLoader\n",
    "train_loader = DataLoader(train_dataset, batch_size=loteTrain, shuffle=True)\n",
    "\n",
    "# Similarmente, se puede definir para el conjunto de validación o test si fuera necesario\n"
   ]
  },
  {
   "cell_type": "markdown",
   "metadata": {},
   "source": [
    "## Definiendo  algoritmos de muestreo "
   ]
  },
  {
   "cell_type": "code",
   "execution_count": 7,
   "metadata": {},
   "outputs": [],
   "source": [
    "# Definir el diccionario de muestreos\n",
    "\n",
    "metodos = [\n",
    "    \"DataArgumentation\"\n",
    "]\n"
   ]
  },
  {
   "cell_type": "markdown",
   "metadata": {},
   "source": [
    "## Cargar datos de entrenamiento"
   ]
  },
  {
   "cell_type": "code",
   "execution_count": 8,
   "metadata": {},
   "outputs": [],
   "source": [
    "# Imprimir la ruta actual del script\n",
    "\n",
    "X_train_violent, y_train_violent = obj.load_images_and_labels(obj.train_violent_dir, 1)\n",
    "X_train_non_violent, y_train_non_violent = obj.load_images_and_labels(obj.train_non_violent_dir, 0)\n",
    "\n",
    "X_train = np.concatenate((X_train_violent, X_train_non_violent), axis=0)\n",
    "y_train = np.concatenate((y_train_violent, y_train_non_violent), axis=0)\n",
    "## liberando memoria\n",
    "del X_train_violent\n",
    "del y_train_violent\n",
    "del X_train_non_violent\n",
    "del y_train_non_violent "
   ]
  },
  {
   "cell_type": "code",
   "execution_count": 9,
   "metadata": {},
   "outputs": [
    {
     "name": "stdout",
     "output_type": "stream",
     "text": [
      "Inicindo proceso con el metodo:  DataArgumentation\n"
     ]
    },
    {
     "name": "stderr",
     "output_type": "stream",
     "text": [
      "Entrenando:  50%|█████     | 1/2 [00:02<00:02,  2.21s/iter]"
     ]
    },
    {
     "name": "stdout",
     "output_type": "stream",
     "text": [
      "Epoch [1/2], Train Loss: 0.1525, Train Acc: 94.28%, Val Loss: 0.0078, Val Acc: 99.78%\n"
     ]
    },
    {
     "name": "stderr",
     "output_type": "stream",
     "text": [
      "Entrenando: 100%|██████████| 2/2 [00:04<00:00,  2.12s/iter]"
     ]
    },
    {
     "name": "stdout",
     "output_type": "stream",
     "text": [
      "Epoch [2/2], Train Loss: 0.0127, Train Acc: 99.56%, Val Loss: 0.0102, Val Acc: 99.78%\n"
     ]
    },
    {
     "name": "stderr",
     "output_type": "stream",
     "text": [
      "\n"
     ]
    },
    {
     "name": "stdout",
     "output_type": "stream",
     "text": [
      "Test Accuracy: 97.82%\n",
      "Precision: 1.000000\n",
      "Recall: 0.956466\n",
      "F1 Score: 0.977749\n",
      "G-Mean: 0.977991\n",
      "Resultados guardados en ../resources/metricas/ResNet18_25_resultados_DataArgumentation.txt\n"
     ]
    },
    {
     "data": {
      "image/png": "[encoded data removed]",
      "text/plain": [
       "<Figure size 800x600 with 1 Axes>"
      ]
     },
     "metadata": {},
     "output_type": "display_data"
    }
   ],
   "source": [
    "for mm in metodos:\n",
    "    print(\"Inicindo proceso con el metodo: \",mm)\n",
    "    X_sampled,y_sampled=obj.muestreo(X_train,y_train,mm)\n",
    "    ## Dividir los datos de entrenamiento en entrenamiento y validación\n",
    "    X_train_sampled, X_val, y_train_sampled, y_val = train_test_split(X_sampled, y_sampled, test_size=0.2, random_state=42)\n",
    "    ## convertir a tensores\n",
    "    train_inputs = torch.tensor(X_train_sampled, dtype=torch.float32).permute(0, 3, 1, 2)\n",
    "    train_labels = torch.tensor(y_train_sampled, dtype=torch.long)\n",
    "    val_inputs = torch.tensor(X_val, dtype=torch.float32).permute(0, 3, 1, 2)\n",
    "    val_labels = torch.tensor(y_val, dtype=torch.long).to(device)  # Mover val_labels a la GPU\n",
    "    ## vaciando variables para desocupar RAM\n",
    "    del y_train_sampled\n",
    "    del X_train_sampled\n",
    "    del X_sampled\n",
    "    del X_val\n",
    "    del y_sampled\n",
    "    del y_val \n",
    "    ### crear datasets y dataloaders\n",
    "    train_dataset = TensorDataset(train_inputs, train_labels)\n",
    "    val_dataset = TensorDataset(val_inputs, val_labels)\n",
    "    train_loader = DataLoader(train_dataset, batch_size=loteTrain, shuffle=True)\n",
    "    val_loader = DataLoader(val_dataset, batch_size=loteVal, shuffle=True)  # DataLoader para validación\n",
    "    ## liberando memoria\n",
    "\n",
    "\n",
    "    del train_inputs \n",
    "    del train_labels \n",
    "    del val_inputs \n",
    "    del val_labels \n",
    "    ##\n",
    "   \n",
    "    ##\n",
    "    model = obj.getModel()\n",
    "    ##mover modelo a la gpu o en su defecto al cpu\n",
    "    model = model.to(device) \n",
    "    ## se define el criterio de perdida y el otimizador \n",
    "    criterion = nn.CrossEntropyLoss()\n",
    "    #optimizer = optim.Adam(model.parameters(), lr=0.001) \n",
    "    #optimizer = optim.AdamW(filter(lambda p: p.requires_grad, model.parameters()), lr=1e-4, weight_decay=1e-2)\n",
    "    # Definir el optimizador Adam para las capas no congeladas\n",
    "    #optimizer = optim.Adam(filter(lambda p: p.requires_grad, model.parameters()), lr=0.001)\n",
    "    optimizer = optim.Adam(model.parameters(), lr=0.001) \n",
    "    ################    Entrenamiento\n",
    "\n",
    "\n",
    "    obj.fit(epocas,model,device,train_loader,val_loader,optimizer,criterion,len(train_dataset))\n",
    "    #liberando memoria\n",
    "    torch.cuda.empty_cache()\n",
    "    del train_dataset\n",
    "    del val_dataset \n",
    "    del val_loader \n",
    "    ########## guardar modelo\n",
    "\n",
    "    torch.save(model.state_dict(), \"../resources/modelos_Y_pesos/ResNet18_25\"+mm+\".pth\")\n",
    "    del optimizer\n",
    "    del train_loader\n",
    "\n",
    "    ###\n",
    "    #       Test\n",
    "    ###\n",
    "    #cargar datos de prueba\n",
    "    X_test_violent, y_test_violent = obj.load_images_and_labels(obj.test_violent_dir, 1)\n",
    "    X_test_non_violent, y_test_non_violent = obj.load_images_and_labels(obj.test_non_violent_dir, 0)\n",
    "\n",
    "    X_test = np.concatenate((X_test_violent, X_test_non_violent), axis=0)\n",
    "    y_test = np.concatenate((y_test_violent, y_test_non_violent), axis=0)\n",
    "\n",
    "    ##liberando memoria\n",
    "    del X_test_violent\n",
    "    del y_test_violent\n",
    "    del X_test_non_violent\n",
    "    del y_test_non_violent \n",
    "    #convertir a tensores\n",
    "    test_inputs = torch.tensor(np.array(X_test), dtype=torch.float32).permute(0, 3, 1, 2)\n",
    "    test_labels = torch.tensor(y_test, dtype=torch.long)\n",
    "\n",
    "    ##crear dataset de eprueba\n",
    "    test_dataset = TensorDataset(test_inputs, test_labels)\n",
    "    test_loader = DataLoader(test_dataset, batch_size=64, shuffle=False)\n",
    "    ###liberando memoria\n",
    "    del test_inputs \n",
    "    del test_labels \n",
    "    del X_test \n",
    "    del y_test \n",
    "\n",
    "    ##evaluacion del conjunto de test\n",
    "    model.eval()\n",
    "    y_true = []\n",
    "    y_pred = []\n",
    "    with torch.no_grad():\n",
    "        for inputs, labels in test_loader:  \n",
    "            inputs = inputs.to(device)\n",
    "            outputs = model(inputs)\n",
    "            _, predicted = torch.max(outputs.data, 1)\n",
    "            y_true.extend(labels.cpu().numpy())\n",
    "            y_pred.extend(predicted.cpu().numpy())\n",
    "\n",
    "    ## metricas para  conjuntos de test desbalanceados\n",
    "    conf_matrix = confusion_matrix(y_true, y_pred)\n",
    "    tn, fp, fn, tp = conf_matrix.ravel()\n",
    "    precision = precision_score(y_true, y_pred)\n",
    "    recall = recall_score(y_true, y_pred)\n",
    "    f1 = f1_score(y_true, y_pred)\n",
    "    gmean = np.sqrt(recall * (tn / (tn + fp)))  # G-Mean\n",
    "\n",
    "    print(f\"Test Accuracy: {100 * np.mean(np.array(y_true) == np.array(y_pred)):.2f}%\")\n",
    "    print(f\"Precision: {precision:.6f}\")\n",
    "    print(f\"Recall: {recall:.6f}\")\n",
    "    print(f\"F1 Score: {f1:.6f}\")\n",
    "    print(f\"G-Mean: {gmean:.6f}\")\n",
    "\n",
    "    # Nombre del archivo para guardar los resultados\n",
    "    filename = \"../resources/metricas/ResNet18_25_resultados_\"+mm+\".txt\"\n",
    "\n",
    "    # Guardar en archivo de texto\n",
    "    with open(filename, 'w') as f:\n",
    "        f.write(f\"Test Accuracy: {100 * np.mean(np.array(y_true) == np.array(y_pred)):.2f}%\\n\")\n",
    "        f.write(f\"Precision: {precision:.4f}\\n\")\n",
    "        f.write(f\"Recall: {recall:.4f}\\n\")\n",
    "        f.write(f\"F1 Score: {f1:.4f}\\n\")\n",
    "        f.write(f\"G-Mean: {gmean:.4f}\\n\")\n",
    "\n",
    "    print(f\"Resultados guardados en {filename}\")\n",
    "\n",
    "\n",
    "    ## Matriz de confucion    \n",
    "    plt.figure(figsize=(8, 6))\n",
    "    sns.heatmap(conf_matrix, annot=True, fmt=\"d\", cmap=\"Blues\", cbar=False,\n",
    "                xticklabels=[\"No Violencia\", \"Violencia\"], yticklabels=[\"No Violencia\", \"Violencia\"])\n",
    "    plt.xlabel(\"Clase Predicha\")\n",
    "    plt.ylabel(\"Clase Real\")\n",
    "    plt.title(\"Matriz de Confusión\")\n",
    "    plt.savefig(\"../resources/confusion_matrix/ResNet18_25\"+mm+\".png\")\n",
    "    plt.show()\n",
    "    plt.close()"
   ]
  }
 ],
 "metadata": {
  "kernelspec": {
   "display_name": "uno_violencia",
   "language": "python",
   "name": "python3"
  },
  "language_info": {
   "codemirror_mode": {
    "name": "ipython",
    "version": 3
   },
   "file_extension": ".py",
   "mimetype": "text/x-python",
   "name": "python",
   "nbconvert_exporter": "python",
   "pygments_lexer": "ipython3",
   "version": "3.11.9"
  }
 },
 "nbformat": 4,
 "nbformat_minor": 2
}
